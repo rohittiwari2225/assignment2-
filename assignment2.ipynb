{
 "cells": [
  {
   "cell_type": "markdown",
   "id": "268179d3-651b-4553-8b79-e0d6df6dc886",
   "metadata": {},
   "source": [
    "question 1:\n",
    "\n",
    "\n",
    "I use # to comment code in python ,There are three different type of comments in python\n",
    "1] single line comment   #\n",
    "2] Multiline comments   \"\"'       \"\"\"\n",
    "3]Docstring comments \n"
   ]
  },
  {
   "cell_type": "markdown",
   "id": "87f690a5-7298-4619-b3e2-0e8202455bd1",
   "metadata": {},
   "source": [
    "question 2:\n",
    "\n",
    "varibles act like contaner that use to store the valeus and information that the program need to work with.\n",
    "assinment of values to varibles \n",
    "a = 200\n",
    "b = 6.89"
   ]
  },
  {
   "cell_type": "markdown",
   "id": "6d4d9776-3dba-4e1f-be17-f230e8f3337c",
   "metadata": {},
   "source": [
    "question 3:\n",
    "\n",
    "answer: by buit in functions of data type,\n",
    "a = 4.89\n",
    "a =int(a)\n",
    "print(a)"
   ]
  },
  {
   "cell_type": "markdown",
   "id": "cf689894-f990-42ed-8688-2e697ad9f9fc",
   "metadata": {},
   "source": [
    "question 4:\n",
    "\n",
    " Using the python command:\n",
    "This is the most basic and straightforward method. \n",
    " Python script: Create a file with a .py extension and write your Python code in it. For example,  a file named hello.py "
   ]
  },
  {
   "cell_type": "code",
   "execution_count": 9,
   "id": "7fe17eef-2019-4ad9-b2ff-bdc126823762",
   "metadata": {},
   "outputs": [
    {
     "name": "stdout",
     "output_type": "stream",
     "text": [
      "[2, 3]\n"
     ]
    }
   ],
   "source": [
    "# question 5:\n",
    "\n",
    "my_list = [1,2,3,4,5]\n",
    "sub_list = my_list[1:3]\n",
    "print(sub_list)"
   ]
  },
  {
   "cell_type": "markdown",
   "id": "be1baefb-6ba9-4942-804c-c241d533073a",
   "metadata": {},
   "source": [
    "question 6:\n",
    "\n",
    "In mathematics , complex number is imaginary number .\n",
    "in python programming complex number is represented by \"j\".\n",
    "\n",
    "a = 2 +7j\n",
    "type(a)"
   ]
  },
  {
   "cell_type": "markdown",
   "id": "5172ef9b-0c8d-44d8-adf5-d0d2fb0ab035",
   "metadata": {},
   "source": [
    " question 7:\n",
    " the correct way to assign the value to varible   (age)  is \n",
    "  age = 25"
   ]
  },
  {
   "cell_type": "markdown",
   "id": "413ca34d-bc43-498f-8d96-0b65fa58a5f3",
   "metadata": {},
   "source": [
    "question 8:\n",
    "  \n",
    "  prise = 9.99 \n",
    "  type(prise)\n",
    "  the data type of varible prise is float.\n",
    "    "
   ]
  },
  {
   "cell_type": "code",
   "execution_count": 1,
   "id": "34bb6c6f-5053-4ff1-9b1e-5c4ac45ed65f",
   "metadata": {},
   "outputs": [
    {
     "name": "stdout",
     "output_type": "stream",
     "text": [
      "ROHIT TIWARI\n"
     ]
    }
   ],
   "source": [
    "#question 9:\n",
    "\n",
    "name = \"ROHIT TIWARI\"\n",
    "print(name)\n",
    "    "
   ]
  },
  {
   "cell_type": "code",
   "execution_count": 6,
   "id": "d9bfa877-65bb-4a4f-8564-bd72f6363613",
   "metadata": {},
   "outputs": [
    {
     "name": "stdout",
     "output_type": "stream",
     "text": [
      " World\n"
     ]
    }
   ],
   "source": [
    "#question 10:\n",
    "\n",
    "a = \"Hello World!\"\n",
    "print(a[5:11])"
   ]
  },
  {
   "cell_type": "markdown",
   "id": "156c3499-9132-4c49-8846-13b2d3802093",
   "metadata": {},
   "source": [
    "#question 11:\n",
    "is_student = True \n",
    "print(is_student)"
   ]
  },
  {
   "cell_type": "markdown",
   "id": "0db122dd-d19d-4218-915c-3b98c9c3cd2b",
   "metadata": {},
   "source": []
  }
 ],
 "metadata": {
  "kernelspec": {
   "display_name": "Python 3 (ipykernel)",
   "language": "python",
   "name": "python3"
  },
  "language_info": {
   "codemirror_mode": {
    "name": "ipython",
    "version": 3
   },
   "file_extension": ".py",
   "mimetype": "text/x-python",
   "name": "python",
   "nbconvert_exporter": "python",
   "pygments_lexer": "ipython3",
   "version": "3.10.8"
  }
 },
 "nbformat": 4,
 "nbformat_minor": 5
}
